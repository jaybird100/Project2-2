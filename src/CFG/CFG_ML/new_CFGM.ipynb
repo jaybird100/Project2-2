{
 "cells": [
  {
   "cell_type": "markdown",
   "id": "2eac26f1-305c-4fdb-94cf-3a7dce233a01",
   "metadata": {},
   "source": [
    "<center><H3>Create training samples<H3/><center>"
   ]
  },
  {
   "cell_type": "code",
   "execution_count": 1,
   "id": "e61db8d0-e04d-4606-8292-015098baab0c",
   "metadata": {},
   "outputs": [],
   "source": [
    "import pandas as pd\n",
    "import random"
   ]
  },
  {
   "cell_type": "code",
   "execution_count": 2,
   "id": "4a30328e-555c-43e7-940c-9c5a689dabd0",
   "metadata": {},
   "outputs": [],
   "source": [
    "training = pd.read_csv(\"training.csv\")"
   ]
  },
  {
   "cell_type": "code",
   "execution_count": 3,
   "id": "ba52d78f-8fd1-4f91-b66c-1f895b6a30db",
   "metadata": {},
   "outputs": [],
   "source": [
    "training = training[['utterance','intension']]"
   ]
  },
  {
   "cell_type": "code",
   "execution_count": 4,
   "id": "a4f0b3a8-8604-4ef9-ba0b-3ccc2ad5373c",
   "metadata": {},
   "outputs": [
    {
     "data": {
      "text/html": [
       "<div>\n",
       "<style scoped>\n",
       "    .dataframe tbody tr th:only-of-type {\n",
       "        vertical-align: middle;\n",
       "    }\n",
       "\n",
       "    .dataframe tbody tr th {\n",
       "        vertical-align: top;\n",
       "    }\n",
       "\n",
       "    .dataframe thead th {\n",
       "        text-align: right;\n",
       "    }\n",
       "</style>\n",
       "<table border=\"1\" class=\"dataframe\">\n",
       "  <thead>\n",
       "    <tr style=\"text-align: right;\">\n",
       "      <th></th>\n",
       "      <th>utterance</th>\n",
       "      <th>intension</th>\n",
       "    </tr>\n",
       "  </thead>\n",
       "  <tbody>\n",
       "    <tr>\n",
       "      <th>0</th>\n",
       "      <td>which lectures are there on wednesday at 2</td>\n",
       "      <td>Schedule</td>\n",
       "    </tr>\n",
       "    <tr>\n",
       "      <th>1</th>\n",
       "      <td>is there a lecture at 16 on monday</td>\n",
       "      <td>Schedule</td>\n",
       "    </tr>\n",
       "    <tr>\n",
       "      <th>2</th>\n",
       "      <td>on sunday at 18 which lectures are there</td>\n",
       "      <td>Schedule</td>\n",
       "    </tr>\n",
       "    <tr>\n",
       "      <th>3</th>\n",
       "      <td>on tuesday at 22 which lectures are there</td>\n",
       "      <td>Schedule</td>\n",
       "    </tr>\n",
       "    <tr>\n",
       "      <th>4</th>\n",
       "      <td>hello where is room 7 located</td>\n",
       "      <td>Location</td>\n",
       "    </tr>\n",
       "    <tr>\n",
       "      <th>...</th>\n",
       "      <td>...</td>\n",
       "      <td>...</td>\n",
       "    </tr>\n",
       "    <tr>\n",
       "      <th>1567</th>\n",
       "      <td>hello how do we get to room 2</td>\n",
       "      <td>Location</td>\n",
       "    </tr>\n",
       "    <tr>\n",
       "      <th>1568</th>\n",
       "      <td>is there a lecture on saturday at 20</td>\n",
       "      <td>Schedule</td>\n",
       "    </tr>\n",
       "    <tr>\n",
       "      <th>1569</th>\n",
       "      <td>hello where is room 9 located</td>\n",
       "      <td>Location</td>\n",
       "    </tr>\n",
       "    <tr>\n",
       "      <th>1570</th>\n",
       "      <td>hey how do you get to room 7</td>\n",
       "      <td>Location</td>\n",
       "    </tr>\n",
       "    <tr>\n",
       "      <th>1571</th>\n",
       "      <td>on wednesday at 23 which lectures are there</td>\n",
       "      <td>Schedule</td>\n",
       "    </tr>\n",
       "  </tbody>\n",
       "</table>\n",
       "<p>1572 rows × 2 columns</p>\n",
       "</div>"
      ],
      "text/plain": [
       "                                        utterance intension\n",
       "0      which lectures are there on wednesday at 2  Schedule\n",
       "1              is there a lecture at 16 on monday  Schedule\n",
       "2        on sunday at 18 which lectures are there  Schedule\n",
       "3       on tuesday at 22 which lectures are there  Schedule\n",
       "4                   hello where is room 7 located  Location\n",
       "...                                           ...       ...\n",
       "1567                hello how do we get to room 2  Location\n",
       "1568         is there a lecture on saturday at 20  Schedule\n",
       "1569                hello where is room 9 located  Location\n",
       "1570                 hey how do you get to room 7  Location\n",
       "1571  on wednesday at 23 which lectures are there  Schedule\n",
       "\n",
       "[1572 rows x 2 columns]"
      ]
     },
     "execution_count": 4,
     "metadata": {},
     "output_type": "execute_result"
    }
   ],
   "source": [
    "training"
   ]
  },
  {
   "cell_type": "markdown",
   "id": "d14b702e-ee2a-4c82-af60-ed61246cb3d5",
   "metadata": {},
   "source": [
    "<center><H3>Use BOW for Training and Testing<H3/><center>"
   ]
  },
  {
   "cell_type": "code",
   "execution_count": 5,
   "id": "72c47b54-7ee8-40cc-99fb-afc684658a43",
   "metadata": {},
   "outputs": [],
   "source": [
    "import nltk\n",
    "from nltk.tokenize import sent_tokenize, word_tokenize\n",
    "\n",
    "## scipy library\n",
    "from scipy.sparse import dok_matrix\n",
    "from scipy.stats import sem\n",
    "\n",
    "## sklearn library\n",
    "from sklearn.model_selection import train_test_split\n",
    "from sklearn.metrics import confusion_matrix\n",
    "from sklearn import metrics\n",
    "from sklearn.linear_model import LogisticRegression\n",
    "from sklearn.neighbors import KNeighborsClassifier\n",
    "from sklearn.tree import DecisionTreeClassifier\n",
    "from sklearn.ensemble import RandomForestClassifier, AdaBoostClassifier\n",
    "from sklearn import svm\n",
    "from sklearn.model_selection import RepeatedKFold\n",
    "from sklearn.model_selection import cross_val_score\n",
    "\n",
    "from numpy import mean\n",
    "from numpy import std\n",
    "\n",
    "\n",
    "from matplotlib import pyplot as plt\n",
    "\n",
    "## math library\n",
    "import math\n",
    "\n",
    "from termcolor import colored"
   ]
  },
  {
   "cell_type": "code",
   "execution_count": 6,
   "id": "611dc4ee-e3d8-46d8-adb1-725238c3bba6",
   "metadata": {},
   "outputs": [],
   "source": [
    "voc = [\"which\", 'what','time','is', 'there', 'have','lecture', 'scheduled','class','where', 'address','how', 'get','find','room']\n",
    "def create_features(data):\n",
    "    features = []\n",
    "    for sample in data:\n",
    "        tokens = sample.split(\" \")\n",
    "        feature = []\n",
    "        for word in voc:\n",
    "            feature.append(sum([1 for token in tokens if word==token]))\n",
    "        features.append(feature)\n",
    "    return features"
   ]
  },
  {
   "cell_type": "code",
   "execution_count": 7,
   "id": "b05e9a21-1fd8-42f9-b771-16f68d34668a",
   "metadata": {},
   "outputs": [],
   "source": [
    "X = create_features(training['utterance'])\n",
    "y = training['intension']"
   ]
  },
  {
   "cell_type": "code",
   "execution_count": 8,
   "id": "77ae7ba9-a7a4-4f1e-abad-6dd58057fb22",
   "metadata": {},
   "outputs": [],
   "source": [
    "## define classifiers\n",
    "classifiers = {\n",
    "    \"KNeighborsClassifier\": KNeighborsClassifier(),\n",
    "    \"DecisionTreeClassifier\": DecisionTreeClassifier(),\n",
    "    \"RandomForestClassifier\": RandomForestClassifier(),\n",
    "    \"SupportedVectorMachine\": svm.SVC(probability=True),\n",
    "    \"LogisticRegression\": LogisticRegression()\n",
    "}"
   ]
  },
  {
   "cell_type": "code",
   "execution_count": 9,
   "id": "dcebefa8-aace-46eb-b034-8b09962cc016",
   "metadata": {},
   "outputs": [],
   "source": [
    "# evaluate a model with a given number of repeats\n",
    "def evaluate_model(X, y, repeats,clf):\n",
    "    cv = RepeatedKFold(n_splits=10, n_repeats=repeats, random_state=1)\n",
    "    scores = cross_val_score(clf, X, y, scoring='accuracy', cv=cv, n_jobs=-1)\n",
    "    return scores"
   ]
  },
  {
   "cell_type": "code",
   "execution_count": 11,
   "id": "8da5fd37-ad05-491b-a617-0e87f2bb9a05",
   "metadata": {},
   "outputs": [
    {
     "name": "stdout",
     "output_type": "stream",
     "text": [
      "\u001b[1m\u001b[32mKNeighborsClassifier\u001b[0m\n",
      ">1 mean=0.99809 se=0.001\n",
      ">2 mean=0.99809 se=0.001\n",
      ">3 mean=0.99809 se=0.001\n",
      ">4 mean=0.99809 se=0.000\n",
      ">5 mean=0.99809 se=0.000\n",
      ">6 mean=0.99809 se=0.000\n",
      ">7 mean=0.99809 se=0.000\n",
      ">8 mean=0.99809 se=0.000\n",
      ">9 mean=0.99809 se=0.000\n",
      ">10 mean=0.99809 se=0.000\n"
     ]
    },
    {
     "data": {
      "image/png": "[encoded data removed]",
      "text/plain": [
       "<Figure size 864x360 with 1 Axes>"
      ]
     },
     "metadata": {
      "needs_background": "light"
     },
     "output_type": "display_data"
    },
    {
     "name": "stdout",
     "output_type": "stream",
     "text": [
      "\n",
      "\n",
      "\u001b[1m\u001b[32mDecisionTreeClassifier\u001b[0m\n",
      ">1 mean=1.00000 se=0.000\n",
      ">2 mean=1.00000 se=0.000\n",
      ">3 mean=1.00000 se=0.000\n",
      ">4 mean=1.00000 se=0.000\n",
      ">5 mean=1.00000 se=0.000\n",
      ">6 mean=1.00000 se=0.000\n",
      ">7 mean=1.00000 se=0.000\n",
      ">8 mean=1.00000 se=0.000\n",
      ">9 mean=1.00000 se=0.000\n",
      ">10 mean=1.00000 se=0.000\n"
     ]
    },
    {
     "data": {
      "image/png": "[encoded data removed]",
      "text/plain": [
       "<Figure size 864x360 with 1 Axes>"
      ]
     },
     "metadata": {
      "needs_background": "light"
     },
     "output_type": "display_data"
    },
    {
     "name": "stdout",
     "output_type": "stream",
     "text": [
      "\n",
      "\n",
      "\u001b[1m\u001b[32mRandomForestClassifier\u001b[0m\n",
      ">1 mean=1.00000 se=0.000\n",
      ">2 mean=1.00000 se=0.000\n",
      ">3 mean=1.00000 se=0.000\n",
      ">4 mean=1.00000 se=0.000\n",
      ">5 mean=1.00000 se=0.000\n",
      ">6 mean=1.00000 se=0.000\n",
      ">7 mean=1.00000 se=0.000\n",
      ">8 mean=1.00000 se=0.000\n",
      ">9 mean=1.00000 se=0.000\n",
      ">10 mean=1.00000 se=0.000\n"
     ]
    },
    {
     "data": {
      "image/png": "[encoded data removed]",
      "text/plain": [
       "<Figure size 864x360 with 1 Axes>"
      ]
     },
     "metadata": {
      "needs_background": "light"
     },
     "output_type": "display_data"
    },
    {
     "name": "stdout",
     "output_type": "stream",
     "text": [
      "\n",
      "\n",
      "\u001b[1m\u001b[32mSupportedVectorMachine\u001b[0m\n",
      ">1 mean=1.00000 se=0.000\n",
      ">2 mean=1.00000 se=0.000\n",
      ">3 mean=1.00000 se=0.000\n",
      ">4 mean=1.00000 se=0.000\n",
      ">5 mean=0.99975 se=0.000\n",
      ">6 mean=0.99979 se=0.000\n",
      ">7 mean=0.99982 se=0.000\n",
      ">8 mean=0.99968 se=0.000\n",
      ">9 mean=0.99972 se=0.000\n",
      ">10 mean=0.99975 se=0.000\n"
     ]
    },
    {
     "data": {
      "image/png": "[encoded data removed]",
      "text/plain": [
       "<Figure size 864x360 with 1 Axes>"
      ]
     },
     "metadata": {
      "needs_background": "light"
     },
     "output_type": "display_data"
    },
    {
     "name": "stdout",
     "output_type": "stream",
     "text": [
      "\n",
      "\n",
      "\u001b[1m\u001b[32mLogisticRegression\u001b[0m\n",
      ">1 mean=0.99809 se=0.001\n",
      ">2 mean=0.99809 se=0.001\n",
      ">3 mean=0.99809 se=0.001\n",
      ">4 mean=0.99809 se=0.000\n",
      ">5 mean=0.99809 se=0.000\n",
      ">6 mean=0.99809 se=0.000\n",
      ">7 mean=0.99809 se=0.000\n",
      ">8 mean=0.99809 se=0.000\n",
      ">9 mean=0.99809 se=0.000\n",
      ">10 mean=0.99809 se=0.000\n"
     ]
    },
    {
     "data": {
      "image/png": "[encoded data removed]",
      "text/plain": [
       "<Figure size 864x360 with 1 Axes>"
      ]
     },
     "metadata": {
      "needs_background": "light"
     },
     "output_type": "display_data"
    },
    {
     "name": "stdout",
     "output_type": "stream",
     "text": [
      "\n",
      "\n"
     ]
    }
   ],
   "source": [
    "repeats = range(1,11)\n",
    "results = []\n",
    "for key in classifiers.keys():\n",
    "    clf = classifiers[key]\n",
    "    print(colored(key, 'green', attrs=['bold']))\n",
    "    for r in repeats:\n",
    "        scores = evaluate_model(X, y, r, clf)\n",
    "        print('>%d mean=%.5f se=%.3f' % (r, mean(scores), sem(scores)))\n",
    "        results.append(scores)\n",
    "    # plot the results\n",
    "    plt.figure(figsize=(12,5))\n",
    "    plt.boxplot(results, labels=[str(r) for r in repeats], showmeans=True)\n",
    "    plt.show()\n",
    "    results = []\n",
    "    print(\"\\n\")"
   ]
  },
  {
   "cell_type": "markdown",
   "id": "ad1665ab-feb7-4894-ac50-d1a54a6d20aa",
   "metadata": {},
   "source": [
    "From the results above, all classifiers gave nearly perfect accuracy."
   ]
  },
  {
   "cell_type": "markdown",
   "id": "5c59c7e7-615a-483e-bd3a-a19c8fb0c9d7",
   "metadata": {},
   "source": [
    "<center><H3>Test Unknown Utterances<H3/><center>"
   ]
  },
  {
   "cell_type": "code",
   "execution_count": 12,
   "id": "14a90bf5-8f66-4a12-9371-0ae86606ea70",
   "metadata": {},
   "outputs": [],
   "source": [
    "utterance_unseen = pd.read_csv('utterances_unseen.csv')\n",
    "utterance_unseen = utterance_unseen.loc[utterance_unseen['intension']!='Greeting']"
   ]
  },
  {
   "cell_type": "code",
   "execution_count": 13,
   "id": "421f0acc-29c5-475b-8f1a-3cfd814df787",
   "metadata": {},
   "outputs": [
    {
     "data": {
      "text/html": [
       "<div>\n",
       "<style scoped>\n",
       "    .dataframe tbody tr th:only-of-type {\n",
       "        vertical-align: middle;\n",
       "    }\n",
       "\n",
       "    .dataframe tbody tr th {\n",
       "        vertical-align: top;\n",
       "    }\n",
       "\n",
       "    .dataframe thead th {\n",
       "        text-align: right;\n",
       "    }\n",
       "</style>\n",
       "<table border=\"1\" class=\"dataframe\">\n",
       "  <thead>\n",
       "    <tr style=\"text-align: right;\">\n",
       "      <th></th>\n",
       "      <th>utterance</th>\n",
       "      <th>intension</th>\n",
       "    </tr>\n",
       "  </thead>\n",
       "  <tbody>\n",
       "    <tr>\n",
       "      <th>0</th>\n",
       "      <td>What is the address of the lecture at 9</td>\n",
       "      <td>Location</td>\n",
       "    </tr>\n",
       "    <tr>\n",
       "      <th>1</th>\n",
       "      <td>What do we have at 12</td>\n",
       "      <td>Schedule</td>\n",
       "    </tr>\n",
       "    <tr>\n",
       "      <th>2</th>\n",
       "      <td>What time is the lecture on Tuesday</td>\n",
       "      <td>Schedule</td>\n",
       "    </tr>\n",
       "    <tr>\n",
       "      <th>3</th>\n",
       "      <td>Hello, does she have a lecture on Sunday</td>\n",
       "      <td>Schedule</td>\n",
       "    </tr>\n",
       "    <tr>\n",
       "      <th>4</th>\n",
       "      <td>How do we find the address for lecture at 11</td>\n",
       "      <td>Location</td>\n",
       "    </tr>\n",
       "  </tbody>\n",
       "</table>\n",
       "</div>"
      ],
      "text/plain": [
       "                                      utterance intension\n",
       "0       What is the address of the lecture at 9  Location\n",
       "1                         What do we have at 12  Schedule\n",
       "2           What time is the lecture on Tuesday  Schedule\n",
       "3      Hello, does she have a lecture on Sunday  Schedule\n",
       "4  How do we find the address for lecture at 11  Location"
      ]
     },
     "execution_count": 13,
     "metadata": {},
     "output_type": "execute_result"
    }
   ],
   "source": [
    "utterance_unseen.head(5)"
   ]
  },
  {
   "cell_type": "code",
   "execution_count": 14,
   "id": "ce967cc9-bf43-4974-abef-f32a9e04c130",
   "metadata": {},
   "outputs": [],
   "source": [
    "X_unseen = utterance_unseen['utterance']\n",
    "y_unseen = utterance_unseen['intension']"
   ]
  },
  {
   "cell_type": "code",
   "execution_count": 15,
   "id": "d3c03f18-5177-4158-8dc9-faf908f319df",
   "metadata": {},
   "outputs": [],
   "source": [
    "features_unseen = create_features(X_unseen)"
   ]
  },
  {
   "cell_type": "code",
   "execution_count": 18,
   "id": "c998b0ab-426f-46c2-afec-f6e506c021ed",
   "metadata": {},
   "outputs": [],
   "source": [
    "results = []\n",
    "for key in classifiers.keys():\n",
    "    clf = classifiers[key]\n",
    "    clf.fit(X, y)\n",
    "    score = clf.score(features_unseen, y_unseen)\n",
    "    results.append([key, score])\n",
    "df_results = pd.DataFrame(results, columns=['classifier', 'accuracy'])"
   ]
  },
  {
   "cell_type": "code",
   "execution_count": 19,
   "id": "61b40d0d-7e62-4aa2-bc4a-9a3184df1a4d",
   "metadata": {},
   "outputs": [
    {
     "data": {
      "text/html": [
       "<div>\n",
       "<style scoped>\n",
       "    .dataframe tbody tr th:only-of-type {\n",
       "        vertical-align: middle;\n",
       "    }\n",
       "\n",
       "    .dataframe tbody tr th {\n",
       "        vertical-align: top;\n",
       "    }\n",
       "\n",
       "    .dataframe thead th {\n",
       "        text-align: right;\n",
       "    }\n",
       "</style>\n",
       "<table border=\"1\" class=\"dataframe\">\n",
       "  <thead>\n",
       "    <tr style=\"text-align: right;\">\n",
       "      <th></th>\n",
       "      <th>classifier</th>\n",
       "      <th>accuracy</th>\n",
       "    </tr>\n",
       "  </thead>\n",
       "  <tbody>\n",
       "    <tr>\n",
       "      <th>0</th>\n",
       "      <td>KNeighborsClassifier</td>\n",
       "      <td>0.3125</td>\n",
       "    </tr>\n",
       "    <tr>\n",
       "      <th>1</th>\n",
       "      <td>DecisionTreeClassifier</td>\n",
       "      <td>0.2750</td>\n",
       "    </tr>\n",
       "    <tr>\n",
       "      <th>2</th>\n",
       "      <td>RandomForestClassifier</td>\n",
       "      <td>0.2375</td>\n",
       "    </tr>\n",
       "    <tr>\n",
       "      <th>3</th>\n",
       "      <td>SupportedVectorMachine</td>\n",
       "      <td>0.3500</td>\n",
       "    </tr>\n",
       "    <tr>\n",
       "      <th>4</th>\n",
       "      <td>LogisticRegression</td>\n",
       "      <td>0.5625</td>\n",
       "    </tr>\n",
       "  </tbody>\n",
       "</table>\n",
       "</div>"
      ],
      "text/plain": [
       "               classifier  accuracy\n",
       "0    KNeighborsClassifier    0.3125\n",
       "1  DecisionTreeClassifier    0.2750\n",
       "2  RandomForestClassifier    0.2375\n",
       "3  SupportedVectorMachine    0.3500\n",
       "4      LogisticRegression    0.5625"
      ]
     },
     "execution_count": 19,
     "metadata": {},
     "output_type": "execute_result"
    }
   ],
   "source": [
    "df_results"
   ]
  },
  {
   "cell_type": "markdown",
   "id": "76eed8a2-f2f4-4aef-9de2-a417d708ad8e",
   "metadata": {},
   "source": [
    "<center><H3>Define Function for Intent Classification<H3/><center>"
   ]
  },
  {
   "cell_type": "code",
   "execution_count": 20,
   "id": "5e6c428e-539b-42b5-a377-f58e650a324b",
   "metadata": {
    "tags": []
   },
   "outputs": [],
   "source": [
    "def get_intent(question):\n",
    "    clf = LogisticRegression()\n",
    "    clf.fit(X, y)\n",
    "    feature = create_features(question)\n",
    "    intent = clf.predict(feature)\n",
    "    return intent"
   ]
  },
  {
   "cell_type": "markdown",
   "id": "354a4015-801b-4d6b-af0f-d4a608b1c60a",
   "metadata": {},
   "source": [
    "<center><H3>Slot Filling<H3/><center>"
   ]
  },
  {
   "cell_type": "code",
   "execution_count": 21,
   "id": "f0ae5eb8-7685-47d5-9b2c-e8600084abdc",
   "metadata": {},
   "outputs": [],
   "source": [
    "import spacy\n",
    "from dateparser import parse\n",
    "from dateparser.search import search_dates\n",
    "import re"
   ]
  },
  {
   "cell_type": "code",
   "execution_count": 22,
   "id": "095036a1-4d01-4670-a83e-057a5a618d18",
   "metadata": {},
   "outputs": [],
   "source": [
    "question = [\"which lecture is there on 03/04 at 13.45\"]\n",
    "# question = [\"where do we get to room 3\"]"
   ]
  },
  {
   "cell_type": "code",
   "execution_count": 23,
   "id": "02ea4937-3e81-467a-bb2a-4bc50fe9c587",
   "metadata": {},
   "outputs": [],
   "source": [
    "# define dict for all three intents\n",
    "schedule = {\"date\": \"none\", \"day\": \"none\", \"time\": \"none\"}\n",
    "location = {\"room\":\"none\"}\n",
    "greeting = {\"greeting\":['hi','hello','hey']}"
   ]
  },
  {
   "cell_type": "code",
   "execution_count": 24,
   "id": "85338e39-792a-4605-a65f-8bcdcd5e2605",
   "metadata": {},
   "outputs": [],
   "source": [
    "# decide the intent of the inqury\n",
    "intent = get_intent(question)[0]"
   ]
  },
  {
   "cell_type": "code",
   "execution_count": 33,
   "id": "e5703ef4-e392-4711-ac09-cf039870e3d2",
   "metadata": {},
   "outputs": [
    {
     "name": "stdout",
     "output_type": "stream",
     "text": [
      "Schedule\n"
     ]
    }
   ],
   "source": [
    "print(intent)"
   ]
  },
  {
   "cell_type": "code",
   "execution_count": 26,
   "id": "607aed05-b7df-472e-8e38-ba5f330deea5",
   "metadata": {},
   "outputs": [],
   "source": [
    "def match_re(exp, string):\n",
    "    return bool(re.match(exp, string))"
   ]
  },
  {
   "cell_type": "code",
   "execution_count": 27,
   "id": "6f38f240-be37-4322-9681-3ba746da85dc",
   "metadata": {},
   "outputs": [],
   "source": [
    "# fill in slots of Schedule\n",
    "if intent == \"Schedule\":\n",
    "    nlp = spacy.load(\"en_core_web_sm\")\n",
    "    doc = nlp(question[0])\n",
    "    nn = {}\n",
    "    for ent in doc.ents:\n",
    "        nn[ent.text]=ent.label_\n",
    "    # extract date\n",
    "    day_re = r'[Mm]on(day)?|[Tt]ues(day)?|[Ww]ednes(day)?|[Ff]ri(day)?|[Ss]atur(day)?|[Ss]un(day)?'\n",
    "    date_re = r'[0-9]*\\/[0-9]*(\\/[0-9]*)?'\n",
    "    result1 = [ent for ent in nn.keys() if match_re(date_re, ent)==True]\n",
    "    result2 = [ent for ent in nn.keys() if match_re(day_re, ent)==True]\n",
    "    if \"today\" in nn.keys() or \"Today\" in nn.keys():\n",
    "        date = parse(\"today\").strftime(\"%d/%m/%y\")\n",
    "        schedule[\"date\"]=date\n",
    "    elif \"tomorrow\" in nn.keys() or \"Tomorrow\" in nn.keys():\n",
    "        date = parse(\"tomorrow\").strftime(\"%d/%m/%y\")\n",
    "        schedule[\"date\"]=date\n",
    "    elif len(result1)>=1:\n",
    "        date = parse(result1[-1]).strftime(\"%d/%m/%y\")\n",
    "        schedule[\"date\"]=date\n",
    "    elif len(result2)>=1:\n",
    "        date = parse(result2[-1]).strftime(\"%d/%m/%y\")\n",
    "        schedule[\"date\"]=date\n",
    "    # extract day\n",
    "    week_days = ['Monday','Tuesday', 'Wednesday','Thursday','Friday','Saturday','Sunday']\n",
    "    weekday = week_days[parse(schedule[\"date\"]).weekday()-1]\n",
    "    schedule['day'] = weekday\n",
    "    # extract time\n",
    "    time_re = \"[0-9]+[:.][0-9]+\"\n",
    "    result = [ent for ent in nn.keys() if match_re(time_re, ent)==True]\n",
    "    if len(result)>=1:\n",
    "            time = parse(result[-1]).strftime(\"%H:%M\")\n",
    "            schedule[\"time\"]=time\n",
    "    \n",
    "# fill in slots of location\n",
    "elif intent == \"Location\":\n",
    "    loc_re = \"[Rr]oom\\s*[0-9]+\"\n",
    "    loc = None\n",
    "    for i in range(0,len(question[0])):\n",
    "        \n",
    "        for j in range(i+1,len(question[0])+1):\n",
    "            if match_re(loc_re,question[0][i:j]):\n",
    "                loc = re.sub(\"[^0-9]\",\"\",question[0][i:j])  \n",
    "                location['room'] = loc\n",
    "                break\n",
    "    "
   ]
  },
  {
   "cell_type": "markdown",
   "id": "7073fcb6-b391-4f40-a018-5c4fa09c1a70",
   "metadata": {},
   "source": [
    "<center><H3>Find Matching and Generate Answer<H3/><center>"
   ]
  },
  {
   "cell_type": "code",
   "execution_count": 28,
   "id": "057d0322-a9a8-462a-9b01-00b0930ae1cc",
   "metadata": {},
   "outputs": [],
   "source": [
    "timetable = pd.read_csv(\"lectures.csv\")\n",
    "map = pd.read_csv(\"locations.csv\")"
   ]
  },
  {
   "cell_type": "code",
   "execution_count": 29,
   "id": "9466e5e8-dadd-4409-98f4-d7f2bd459d26",
   "metadata": {},
   "outputs": [],
   "source": [
    "def find_matching_schedule(schedule):\n",
    "    matching = [timetable.loc[i]['Course'] for i in range(0,len(timetable)) if timetable.loc[i]['Date']==schedule[\"date\"] and timetable.loc[i]['Time']==schedule['time']]\n",
    "    return matching"
   ]
  },
  {
   "cell_type": "code",
   "execution_count": 30,
   "id": "05ed8c6c-68b6-44bc-90af-6f840835c711",
   "metadata": {},
   "outputs": [],
   "source": [
    "def find_matching_location(location):\n",
    "    matching = [[str(i), str(map.loc[i]['Floor']), str(map.loc[i][\"Extra\"])] for i in range(0,len(map)) if str(map.loc[i]['Room'])==location[\"room\"]]\n",
    "    return matching"
   ]
  },
  {
   "cell_type": "code",
   "execution_count": 34,
   "id": "c4891412-f1bf-421c-90a3-ae074ae6188f",
   "metadata": {},
   "outputs": [],
   "source": [
    "if intent==\"Schedule\":\n",
    "    lecture = find_matching_schedule(schedule)\n",
    "    if len(lecture)>=1:\n",
    "        answer = \"On {0} at {1}, you have a {2}\".format(schedule['day'],schedule['time'],'/'.join(lecture[:]))\n",
    "    else:\n",
    "        answer = \"On {0} at {1}, you have no lectures\".format(schedule['day'],schedule['time'])\n",
    "elif intent==\"Location\":\n",
    "    address = find_matching_location(location)[0]\n",
    "    address = [address[i] for i in range(0,len(address)) if address[i]!=\"nan\"]\n",
    "    if len(address)>2:\n",
    "        answer = \"Room {0} is on Floor {1} {2}\".format(address[0], address[1], address[2])\n",
    "    elif len(address)==2:\n",
    "        answer = \"Room {0} is on Floor {1}\".format(address[0], address[1])\n",
    "    else:\n",
    "        answer = \"There is no room {0}\".format(address[0])\n",
    "\n",
    "# fill in slots of greeting           \n",
    "elif question[0].lower() in ['hi','hello','hey']:\n",
    "    answer = greeting['greeting'][random.randint(2)]"
   ]
  },
  {
   "cell_type": "code",
   "execution_count": 32,
   "id": "4528fb64-780a-4493-aa99-84841afdbfc7",
   "metadata": {},
   "outputs": [
    {
     "name": "stdout",
     "output_type": "stream",
     "text": [
      "On Friday at 13:45, you have no lectures\n"
     ]
    }
   ],
   "source": [
    "print(answer)"
   ]
  },
  {
   "cell_type": "code",
   "execution_count": null,
   "id": "1c262760-dcc2-4f23-9296-090438c09ce7",
   "metadata": {},
   "outputs": [],
   "source": []
  },
  {
   "cell_type": "code",
   "execution_count": null,
   "id": "3c413200-dc38-4dfc-8b82-40aa67c8eaca",
   "metadata": {},
   "outputs": [],
   "source": []
  }
 ],
 "metadata": {
  "kernelspec": {
   "display_name": "Python 3",
   "language": "python",
   "name": "python3"
  },
  "language_info": {
   "codemirror_mode": {
    "name": "ipython",
    "version": 3
   },
   "file_extension": ".py",
   "mimetype": "text/x-python",
   "name": "python",
   "nbconvert_exporter": "python",
   "pygments_lexer": "ipython3",
   "version": "3.8.10"
  }
 },
 "nbformat": 4,
 "nbformat_minor": 5
}
